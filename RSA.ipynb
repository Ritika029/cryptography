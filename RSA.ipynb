{
  "nbformat": 4,
  "nbformat_minor": 0,
  "metadata": {
    "colab": {
      "provenance": []
    },
    "kernelspec": {
      "name": "python3",
      "display_name": "Python 3"
    },
    "language_info": {
      "name": "python"
    }
  },
  "cells": [
    {
      "cell_type": "code",
      "execution_count": null,
      "metadata": {
        "colab": {
          "base_uri": "https://localhost:8080/"
        },
        "id": "kyEt4Sp746gg",
        "outputId": "3427b496-3251-4024-ad02-7b19aaab1c97"
      },
      "outputs": [
        {
          "output_type": "stream",
          "name": "stdout",
          "text": [
            "~~~computation~~~\n",
            "P= 3\n",
            "Q= 11\n",
            "n= 33\n",
            "phi= 20\n",
            "e= 3\n",
            "k= 2\n",
            "d= 13.666666666666666\n",
            "Generation of key takes time:8.7738037109375e-05ms\n",
            "~~~encrypting~~~\n",
            "Enter plaintext: j\n",
            "encrypted Data = 10\n",
            "Encrypting takes time:0.00012564659118652344ms\n",
            "~~~decrypting ~~~\n",
            "decrypted Data = 24\n",
            "Decrypting takes time:0.00015974044799804688ms\n"
          ]
        }
      ],
      "source": [
        "import random\n",
        "import numpy as np\n",
        "import math\n",
        "import time \n",
        "alpha=[\" \",\"a\",\"b\",\"c\",\"d\",\"e\",\"f\",\"g\",\"h\",\"i\",\"j\",\"k\",\"l\",\"m\",\"n\",\"o\",\"p\",\"q\",\"r\",\"s\",\"t\",\"u\",\"v\",\"w\",\"x\",\"y\",\"z\"]\n",
        "print(\"~~~computation~~~\")\n",
        "P = 3\n",
        "print(\"P= \"+str(P))\n",
        "Q = 11\n",
        "print(\"Q= \"+str(Q))\n",
        "n = P*Q\n",
        "print(\"n= \"+str(n))\n",
        "phi = (P-1)*(Q-1)\n",
        "print(\"phi= \"+str(phi))\n",
        "e = 3\n",
        "print(\"e= \"+str(e))\n",
        "k = 2\n",
        "print(\"k= \"+str(k))\n",
        "start = time.time()\n",
        "d = (k*phi+1)/e\n",
        "end = time.time()\n",
        "print(\"d= \"+str(d))\n",
        "print(\"Generation of key takes time:\" +str(end - start)+\"ms\")\n",
        "print(\"~~~encrypting~~~\")\n",
        "z=input(\"Enter plaintext: \")\n",
        "texta=[]\n",
        "for element in z:\n",
        "    texta.append(alpha.index(element))\n",
        "# print(texta)\n",
        "s = [str(i) for i in texta]\n",
        "x=int(\"\".join(s))\n",
        "# print(\"cipher= \"+ cipher.upper())\n",
        "start = time.time()\n",
        "r=pow(x, e)\n",
        "c =int(math.fmod(r, n))\n",
        "end = time.time()\n",
        "print(\"encrypted Data = \"+str(c))\n",
        "print(\"Encrypting takes time:\" +str(end - start)+\"ms\")\n",
        "print(\"~~~decrypting ~~~\")\n",
        "start = time.time()\n",
        "q=pow(c,d)\n",
        "y=int(math.fmod(q,n))\n",
        "end = time.time()\n",
        "print(\"decrypted Data = \"+str(y))\n",
        "print(\"Decrypting takes time:\" +str(end - start)+\"ms\")"
      ]
    }
  ]
}