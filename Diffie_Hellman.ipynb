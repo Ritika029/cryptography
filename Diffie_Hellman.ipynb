{
  "nbformat": 4,
  "nbformat_minor": 0,
  "metadata": {
    "colab": {
      "provenance": []
    },
    "kernelspec": {
      "name": "python3",
      "display_name": "Python 3"
    },
    "language_info": {
      "name": "python"
    }
  },
  "cells": [
    {
      "cell_type": "markdown",
      "source": [
        "# Implementation of Diffie-Hellman Algorithm\n",
        "Step 1: Alice and Bob get public numbers P = 23, G = 9\n",
        "\n",
        "\n",
        "---\n",
        "\n",
        "\n",
        "Step 2: Alice selected a private key a = 4 and\n",
        "\n",
        "Bob selected a private key b = 3\n",
        "\n",
        "\n",
        "---\n",
        "\n",
        "\n",
        "Step 3: Alice and Bob compute public values\n",
        "\n",
        "Alice:    x =(9^4 mod 23) = (6561 mod 23) = 6\n",
        "\n",
        "Bob:    y = (9^3 mod 23) = (729 mod 23)  = 16\n",
        "\n",
        "\n",
        "---\n",
        "\n",
        "\n",
        "Step 4: Alice and Bob exchange public numbers\n",
        "\n",
        "\n",
        "---\n",
        "\n",
        "\n",
        "Step 5: Alice receives public key y =16 and\n",
        "\n",
        "  Bob receives public key x = 6\n",
        "\n",
        "\n",
        "---\n",
        "\n",
        "\n",
        "\n",
        "Step 6: Alice and Bob compute symmetric keys\n",
        "\n",
        " Alice:  ka = y^a mod p = 65536 mod 23 = 9\n",
        "\n",
        " Bob:    kb = x^b mod p = 216 mod 23 = 9\n",
        "\n",
        "\n",
        "---\n",
        "\n",
        "\n",
        "\n",
        "Step 7: 9 is the shared secret.\n",
        "\n",
        "\n",
        "---\n",
        "\n",
        "\n",
        "\n"
      ],
      "metadata": {
        "id": "cxk9ng1M0BEg"
      }
    },
    {
      "cell_type": "code",
      "source": [
        "# Implementation of Diffie-Hellman Algorithm\n",
        "P=int(input(\"Enter Alices public key: \"))\n",
        "G=int(input(\"Enter Bobs public key: \"))\n",
        "a=int(input(\"Enter Alices private key: \"))\n",
        "b=int(input(\"Enter Bobs private key: \"))\n",
        "x=(G**a%P)\n",
        "print(x)\n",
        "y=(G**b%P)\n",
        "print(y)\n",
        "ka=(y**a%P)\n",
        "# print(ka)\n",
        "kb=(x**b%P)\n",
        "# print(kb)\n",
        "if ka==kb:\n",
        "  print(\"Success\")\n",
        "  print(str(ka)+\" is the shared secret.\")\n",
        "else:\n",
        "  print(\"Failed\")"
      ],
      "metadata": {
        "colab": {
          "base_uri": "https://localhost:8080/"
        },
        "id": "ZoNlcVQR0sv7",
        "outputId": "2138f194-7db5-4f53-e499-d500b86d2bec"
      },
      "execution_count": null,
      "outputs": [
        {
          "output_type": "stream",
          "name": "stdout",
          "text": [
            "Enter Alices public key: 23\n",
            "Enter Bobs public key: 9\n",
            "Enter Alices private key: 4\n",
            "Enter Bobs private key: 4\n",
            "6\n",
            "6\n",
            "Success\n",
            "8 is the shared secret.\n"
          ]
        }
      ]
    },
    {
      "cell_type": "markdown",
      "source": [
        "tep by Step explanation of this process:\n",
        "\n",
        "Step 1: Selected public numbers p and g, p is a prime number, called the “modulus” and g is called the base.\n",
        "\n",
        "Step 2: Selecting private numbers.\n",
        "\n",
        "let Alice pick a private random number a and let Bob pick a private random number b, Trudy picks 2 random numbers c and d.\n",
        "\n",
        "\n",
        "\n",
        "Step 3: Intercepting public values,\n",
        "\n",
        "Trudy intercepts Alice’s public value (ga(mod p)), block it from reaching Bob, and instead sends Bob her own public value (gc(modp)) and Trudy intercepts Bob’s public value (gb(mod p)), block it from reaching Alice, and instead sends Alice her own public value (gd (modp))\n",
        "\n",
        "\n",
        "\n",
        "Step 4: Computing secret key\n",
        "\n",
        "Alice will compute a key S1=gda(mod p), and Bob will compute a different key, S2=gcb(mod p)\n",
        "\n",
        "\n",
        "\n",
        "Step 5: If Alice uses S1 as a key to encrypt a later message to Bob, Trudy can decrypt it, re-encrypt it using S2, and send it to Bob. Bob and Alice won’t notice any problem and may assume their communication is encrypted, but in reality, Trudy can decrypt, read, modify, and then re-encrypt all their conversations."
      ],
      "metadata": {
        "id": "ZpmdJmjdF5tt"
      }
    },
    {
      "cell_type": "code",
      "source": [
        "# Man in the Middle attack in Diffie-Hellman Key Exchange\n",
        "p = int(input(\"Enter Alices public key: \"))\n",
        "g = int(input(\"Enter Bobs public key: \"))\n",
        "a = int(input(\"Enter Alices private key: \"))\n",
        "b = int(input(\"Enter Bobs private key: \"))\n",
        "c = int(input(\"Enter Trudys private key wrt Alice: \"))\n",
        "d = int(input(\"Enter Trudys private key wrt Bob: \"))\n",
        "AP=g**a%p\n",
        "print(\"Alices puclic value: \"+str(AP))\n",
        "TA=g**c%p\n",
        "print(\"Alices puclic value sent by Ttudy: \"+str(TA))\n",
        "BP=g**b%p\n",
        "print(\"Bobs puclic value: \"+str(BP))\n",
        "TB=g**d%p\n",
        "print(\"Bobs puclic value sent by Ttudy: \"+str(TB))\n",
        "S1=g**(d*a)% p\n",
        "print(\"Computed value for Alices puclic value sent by Ttudy: \"+str(TA))\n",
        "S2=g**(c*b)% p\n",
        "print(\"Computed value for Bobs puclic value sent by Ttudy: \"+str(TB))"
      ],
      "metadata": {
        "colab": {
          "base_uri": "https://localhost:8080/"
        },
        "id": "ab3JLf1GDM9f",
        "outputId": "06feb994-5ca6-45f8-c23f-773a9f471521"
      },
      "execution_count": null,
      "outputs": [
        {
          "output_type": "stream",
          "name": "stdout",
          "text": [
            "Enter Alices public key: 227\n",
            "Enter Bobs public key: 14\n",
            "Enter Alices private key: 227\n",
            "Enter Bobs private key: 170\n",
            "Enter Trudys private key wrt Alice: 65\n",
            "Enter Trudys private key wrt Bob: 175\n",
            "Alices puclic value: 14\n",
            "Alices puclic value sent by Ttudy: 41\n",
            "Bobs puclic value: 101\n",
            "Bobs puclic value sent by Ttudy: 32\n",
            "Computed value for Alices puclic value sent by Ttudy: 41\n",
            "Computed value for Bobs puclic value sent by Ttudy: 32\n"
          ]
        }
      ]
    }
  ]
}