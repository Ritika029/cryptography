{
  "nbformat": 4,
  "nbformat_minor": 0,
  "metadata": {
    "colab": {
      "provenance": []
    },
    "kernelspec": {
      "name": "python3",
      "display_name": "Python 3"
    },
    "language_info": {
      "name": "python"
    }
  },
  "cells": [
    {
      "cell_type": "code",
      "execution_count": null,
      "metadata": {
        "colab": {
          "base_uri": "https://localhost:8080/"
        },
        "id": "3Rzhs6E7aQDZ",
        "outputId": "199709e0-089f-4d5f-a49e-2d50490f1099"
      },
      "outputs": [
        {
          "output_type": "stream",
          "name": "stdout",
          "text": [
            "~~~ Vernam~~~\n",
            "Enter plaintext: poiuytrewqsa\n",
            "Enter key: lkjhgfdsazxc\n",
            "~~~computation~~~\n",
            "[15, 14, 8, 20, 24, 19, 17, 4, 22, 16, 18, 0]\n",
            "[11, 10, 9, 7, 6, 5, 3, 18, 0, 25, 23, 2]\n",
            "[0, 24, 17, 1, 4, 24, 20, 22, 22, 15, 15, 2]\n",
            "~~~~~~~~~~~~~~~~~\n",
            "cipher= AYRBEYUWWPPC\n",
            "~~~ Single Columnar keyless~~~\n",
            "Enter number of columns: 4\n",
            "~~~computation~~~\n",
            "[['a' 'y' 'r' 'b']\n",
            " ['e' 'y' 'u' 'w']\n",
            " ['w' 'p' 'p' 'c']\n",
            " ['a' 'y' 'r' 'b']]\n",
            "~~~~~~~~~~~~~~~~~\n",
            "Final cipher: AEWAYYPYRUPRBWCB\n"
          ]
        }
      ],
      "source": [
        "import numpy as np\n",
        "alpha=[\"a\",\"b\",\"c\",\"d\",\"e\",\"f\",\"g\",\"h\",\"i\",\"j\",\"k\",\"l\",\"m\",\"n\",\"o\",\"p\",\"q\",\"r\",\"s\",\"t\",\"u\",\"v\",\"w\",\"x\",\"y\",\"z\"]\n",
        "print(\"~~~ Vernam~~~\")\n",
        "text=input(\"Enter plaintext: \")\n",
        "key=input(\"Enter key: \")\n",
        "# print(len(alpha))\n",
        "\n",
        "print(\"~~~computation~~~\")\n",
        "texta=[]\n",
        "for element in text:\n",
        "    textnum=(alpha.index(element))\n",
        "    texta.append(textnum)\n",
        "print(texta)\n",
        "\n",
        "keya=[]\n",
        "for element in key:\n",
        "    keynum=(alpha.index(element))\n",
        "    keya.append(keynum)\n",
        "print(keya)\n",
        "\n",
        "suma=[]\n",
        "for i in range(0,len(texta)):\n",
        "    summ=keya[i]+texta[i]\n",
        "    if summ>=26:\n",
        "        summ=summ-26\n",
        "    suma.append(summ)\n",
        "print(suma)\n",
        "print(\"~~~~~~~~~~~~~~~~~\")\n",
        "\n",
        "outcip=[]\n",
        "for j in range(0,len(texta)):\n",
        "    outcip.append(alpha[suma[j]])\n",
        "    \n",
        "cipher=\"\".join(outcip)\n",
        "print(\"cipher= \"+ cipher.upper())\n",
        "\n",
        "print(\"~~~ Single Columnar keyless~~~\")\n",
        "numb=int(input(\"Enter number of columns: \"))\n",
        "b=int((len(outcip)/numb))\n",
        "arr_2d = np.resize(outcip, (b+1,numb))\n",
        "print(\"~~~computation~~~\")\n",
        "print(arr_2d)\n",
        "print(\"~~~~~~~~~~~~~~~~~\")\n",
        "endchip=[]\n",
        "for m in range(0, numb):\n",
        "  for l in range(0, b+1):\n",
        "    endchip.append(arr_2d[l][m])\n",
        "\n",
        "lacipher=\"\".join(endchip)\n",
        "print(\"Final cipher: \"+lacipher.upper())"
      ]
    }
  ]
}